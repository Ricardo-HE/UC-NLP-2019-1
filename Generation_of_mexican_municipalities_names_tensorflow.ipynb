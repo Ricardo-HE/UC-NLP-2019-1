{
  "nbformat": 4,
  "nbformat_minor": 0,
  "metadata": {
    "colab": {
      "name": "Generation_of_mexican_municipalities_names.ipynb",
      "version": "0.3.2",
      "provenance": [],
      "collapsed_sections": []
    },
    "kernelspec": {
      "name": "python3",
      "display_name": "Python 3"
    },
    "accelerator": "GPU"
  },
  "cells": [
    {
      "cell_type": "markdown",
      "metadata": {
        "id": "O_bKVUXX54bN",
        "colab_type": "text"
      },
      "source": [
        "# Generation of mexican municipalities\n",
        "\n",
        "Mexico has over 2400 municipalities with names where the root of their names come from nahuatl (Aztec's language), spanish, Maya, and many more regional languages. And because of that Mexico has a very rich diversity when it comes to names. \n",
        "\n",
        "This notebook tries to use a RNN to learn and generate names that seems from mexican municipalities names.\n",
        "\n",
        "I'm using the Tensorflow's notebook that generate Shakespeare's style of writing that can be found [here](https://www.tensorflow.org/tutorials/sequences/text_generation). But I'm changing the corpus to be the mexican municipalities names and changing the n-gram of characters to be only 1 because usually the names of the municipalities are just 1 word."
      ]
    },
    {
      "cell_type": "markdown",
      "metadata": {
        "id": "JDJNxfQZ8nZX",
        "colab_type": "text"
      },
      "source": [
        "Load packages"
      ]
    },
    {
      "cell_type": "code",
      "metadata": {
        "id": "pcact_9KgqX6",
        "colab_type": "code",
        "colab": {}
      },
      "source": [
        "from __future__ import absolute_import, division, print_function, unicode_literals\n",
        "\n",
        "import tensorflow as tf\n",
        "tf.enable_eager_execution()\n",
        "\n",
        "from google.colab import files\n",
        "import numpy as np\n",
        "import os\n",
        "import time\n",
        "import urllib.request"
      ],
      "execution_count": 0,
      "outputs": []
    },
    {
      "cell_type": "markdown",
      "metadata": {
        "id": "I6mzy5jE8L-f",
        "colab_type": "text"
      },
      "source": [
        "I load the dataset from my github and display it"
      ]
    },
    {
      "cell_type": "code",
      "metadata": {
        "id": "5ZXltqujhRQx",
        "colab_type": "code",
        "outputId": "cabeff4a-5745-43e1-c7df-ae9c4fe27318",
        "colab": {
          "base_uri": "https://localhost:8080/",
          "height": 54
        }
      },
      "source": [
        "url = 'https://raw.githubusercontent.com/RicardoHE97/RN-Unison/master/modelo_de_generacion_de_texto_con_redes_recurrentes/municipios.txt'\n",
        "response = urllib.request.urlopen(url)\n",
        "data = response.read()      # a `bytes` object\n",
        "text = data.decode('utf-8')\n",
        "text"
      ],
      "execution_count": 3,
      "outputs": [
        {
          "output_type": "execute_result",
          "data": {
            "text/plain": [
              "'Abalá\\nAbasolo\\nAbasolo\\nAbasolo\\nAbasolo\\nAbejones\\nAcacoyagua\\nAcajete\\nAcajete\\nAcala\\nAcámbaro\\nAcambay de Ruíz Castañeda\\nAcanceh\\nAcapetahua\\nAcaponeta\\nAcapulco de Juárez\\nAcateno\\nAcatepec\\nAcatic\\nAcatlán\\nAcatlán\\nAcatlán\\nAcatlán de Juárez\\nAcatlán de Pérez Figueroa\\nAcatzingo\\nAcaxochitlán\\nAcayucan\\nAcolman\\nAconchi\\nActeopan\\nActopan\\nActopan\\nAcuamanala de Miguel Hidalgo\\nAcuitzio\\nAcula\\nAculco\\nAcultzingo\\nAcuña\\nAgua Blanca de Iturbide\\nAgua Dulce\\nAgua Prieta\\nAgualeguas\\nAguascalientes\\nAguililla\\nAhome\\nAhuacatlán\\nAhuacatlán\\nAhuacuotzingo\\nAhualulco\\nAhualulco de Mercado\\nAhuatlán\\nAhuazotepec\\nAhuehuetitla\\nAhumada\\nAjacuba\\nAjalpan\\nAjuchitlán del Progreso\\nAkil\\nÁlamo Temapache\\nAlamos\\nAlaquines\\nAlbino Zertuche\\nAlcozauca de Guerrero\\nAldama\\nAldama\\nAldama\\nAlfajayucan\\nAljojuca\\nAllende\\nAllende\\nAllende\\nAlmoloya\\nAlmoloya de Alquisiras\\nAlmoloya de Juárez\\nAlmoloya del Río\\nAlpatláhuac\\nAlpoyeca\\nAltamira\\nAltamirano\\nAltar\\nAltepexi\\nAlto Lucero de Gutiérrez Barrios\\nAltotonga\\nAltzayanca\\nAlvarado\\nÁlvaro Obregón\\nÁlvaro Obregón\\nAmacueca\\nAmacuzac\\nAmanalco\\nAmatán\\nAmatenango de la Frontera\\nAmatenango del Valle\\nAmatepec\\nAmatitán\\nAmatitlán\\nAmatlán de Cañas\\nAmatlán de los Reyes\\nAmaxac de Guerrero\\nAmealco de Bonfil\\nAmeca\\nAmecameca\\nAmixtlán\\nAmozoc\\nAnáhuac\\nAngamacutiro\\nAngangueo\\nAngel Albino Corzo\\nAngel R. Cabada\\nAngostura\\nÁnimas Trujano\\nAntiguo Morelos\\nApan\\nApaseo el Alto\\nApaseo el Grande\\nApatzingán\\nApaxco\\nApaxtla\\nApazapan\\nApetatitlán de Antonio Carvajal\\nApizaco\\nApodaca\\nAporo\\nApozol\\nApulco\\nAquila\\nAquila\\nAquiles Serdán\\nAquismón\\nAquixtla\\nAramberri\\nArandas\\nArcelia\\nArio\\nArivechi\\nArizpe\\nArmadillo de los Infante\\nArmería\\nArriaga\\nArroyo Seco\\nArteaga\\nArteaga\\nAscensión\\nAsientos\\nAstacinga\\nAsunción Cacalotepec\\nAsunción Cuyotepeji\\nAsunción Ixtaltepec\\nAsunción Nochixtlán\\nAsunción Ocotlán\\nAsunción Tlacolulita\\nAtarjea\\nAtemajac de Brizuela\\nAtempan\\nAtenango del Río\\nAtenco\\nAtengo\\nAtenguillo\\nAtexcal\\nAtil\\nAtitalaquia\\nAtizapán\\nAtizapán de Zaragoza\\nAtlacomulco\\nAtlahuilco\\nAtlamajalcingo del Monte\\nAtlangatepec\\nAtlapexco\\nAtlatlahucan\\nAtlautla\\nAtlequizayan\\nAtlixco\\nAtlixtac\\nAtolinga\\nAtotonilco de Tula\\nAtotonilco el Alto\\nAtotonilco el Grande\\nAtoyac\\nAtoyac\\nAtoyac de Álvarez\\nAtoyatempan\\nAtzacan\\nAtzala\\nAtzalan\\nAtzitzihuacán\\nAtzitzintla\\nAutlán de Navarro\\nAxapusco\\nAxochiapan\\nAxtla de Terrazas\\nAxutla\\nAyahualulco\\nAyala\\nAyapango\\nAyoquezco de Aldama\\nAyotlán\\nAyotoxco de Guerrero\\nAyotzintepec\\nAyutla\\nAyutla de los Libres\\nAzcapotzalco\\nAzoyú\\nBaca\\nBacadéhuachi\\nBacalar\\nBacanora\\nBacerac\\nBachíniva\\nBacoachi\\nBácum\\nBadiraguato\\nBahía de Banderas\\nBalancán\\nBalleza\\nBanámichi\\nBanderilla\\nBatopilas\\nBaviácora\\nBavispe\\nBejucal de Ocampo\\nBella Vista\\nBenemérito de las Américas\\nBenito Juárez\\nBenito Juárez\\nBenito Juárez\\nBenito Juárez\\nBenito Juárez\\nBenito Juárez\\nBenito Juárez\\nBenjamín Hill\\nBerriozábal\\nBoca del Río\\nBochil\\nBocoyna\\nBokobá\\nBolaños\\nBriseñas\\nBuctzotz\\nBuenaventura\\nBuenavista\\nBuenavista de Cuéllar\\nBurgos\\nBustamante\\nBustamante\\nCabo Corrientes\\nCaborca\\nCacahoatán\\nCacalchén\\nCadereyta de Montes\\nCadereyta Jiménez\\nCajeme\\nCalakmul\\nCalcahualco\\nCalera\\nCalihualá\\nCalimaya\\nCalkiní\\nCalnali\\nCalotmul\\nCalpan\\nCalpulalpan\\nCaltepec\\nCalvillo\\nCamargo\\nCamargo\\nCamarón de Tejeda\\nCamerino Z. Mendoza\\nCamocuautla\\nCampeche\\nCañada Morelos\\nCañadas de Obregón\\nCananea\\nCanatlán\\nCandela\\nCandelaria\\nCandelaria Loxicha\\nCanelas\\nCañitas de Felipe Pescador\\nCansahcab\\nCantamayec\\nCapulálpam de Méndez\\nCapulhuac\\nCarácuaro\\nCarbó\\nCárdenas\\nCárdenas\\nCardonal\\nCarichí\\nCarlos A. Carrillo\\nCarmen\\nCarrillo Puerto\\nCasas\\nCasas Grandes\\nCasimiro Castillo\\nCastaños\\nCastillo de Teayo\\nCatazajá\\nCatemaco\\nCatorce\\nCaxhuacan\\nCazones de Herrera\\nCedral\\nCelaya\\nCelestún\\nCenotillo\\nCentla\\nCentro\\nCerralvo\\nCerritos\\nCerro Azul\\nCerro de San Pedro\\nChacaltianguis\\nChacsinkín\\nChahuites\\nChalcatongo de Hidalgo\\nChalchicomula de Sesma\\nChalchihuitán\\nChalchihuites\\nChalco\\nChalma\\nChampotón\\nChamula\\nChanal\\nChankom\\nChapa de Mota\\nChapab\\nChapala\\nChapantongo\\nChapulco\\nChapulhuacán\\nChapultenango\\nChapultepec\\nCharapan\\nCharcas\\nCharo\\nChavinda\\nChemax\\nChenalhó\\nCherán\\nChiapa de Corzo\\nChiapilla\\nChiautempan\\nChiautla\\nChiautla\\nChiautzingo\\nChichimilá\\nChichiquila\\nChicoasén\\nChicoloapan\\nChicomuselo\\nChiconamel\\nChiconcuac\\nChiconcuautla\\nChiconquiaco\\nChicontepec\\nChicxulub Pueblo\\nChietla\\nChigmecatitlán\\nChignahuapan\\nChignautla\\nChihuahua\\nChikindzonot\\nChila\\nChila de la Sal\\nChilapa de Álvarez\\nChilchota\\nChilchotla\\nChilcuautla\\nChilón\\nChilpancingo de los Bravo\\nChimalhuacán\\nChimaltitán\\nChina\\nChinameca\\nChinampa de Gorostiza\\nChinantla\\nChinicuila\\nChínipas\\nChiquihuitlán de Benito Juárez\\nChiquilistlán\\nChocamán\\nChocholá\\nChoix\\nChontla\\nChucándiro\\nChumatlán\\nChumayel\\nChurintzio\\nChurumuco\\nCiénega de Flores\\nCiénega de Zimatlán\\nCihuatlán\\nCintalapa\\nCitlaltépetl\\nCiudad del Maíz\\nCiudad Fernández\\nCiudad Ixtepec\\nCiudad Madero\\nCiudad Valles\\nCoacalco de Berriozábal\\nCoacoatzintla\\nCoahuayana\\nCoahuayutla de José María Izazaga\\nCoahuitlán\\nCoalcomán de Vázquez Pallares\\nCoapilla\\nCoatecas Altas\\nCoatepec\\nCoatepec\\nCoatepec Harinas\\nCoatlán del Río\\nCoatzacoalcos\\nCoatzingo\\nCoatzintla\\nCochoapa el Grande\\nCocotitlán\\nCocula\\nCocula\\nCoeneo\\nCoetzala\\nCohetzala\\nCohuecan\\nCoicoyán de las Flores\\nCojumatlán de Régules\\nColima\\nColipa\\nColón\\nColotlán\\nComala\\nComalcalco\\nComapa\\nComitán de Domínguez\\nComondú\\nComonfort\\nCompostela\\nConcepción Buenavista\\nConcepción de Buenos Aires\\nConcepción del Oro\\nConcepción Pápalo\\nConcordia\\nConeto de Comonfort\\nConkal\\nConstancia del Rosario\\nContepec\\nContla de Juan Cuamatzi\\nCopainalá\\nCopala\\nCopalillo\\nCopanatoyac\\nCopándaro\\nCoquimatlán\\nCórdoba\\nCoronado\\nCoronango\\nCoroneo\\nCorregidora\\nCortazar\\nCosalá\\nCosamaloapan de Carpio\\nCosautlán de Carvajal\\nCoscomatepec\\nCosío\\nCosolapa\\nCosoleacaque\\nCosoltepec\\nCotaxtla\\nCotija\\nCoxcatlán\\nCoxcatlán\\nCoxquihui\\nCoyame del Sotol\\nCoyoacán\\nCoyomeapan\\nCoyotepec\\nCoyotepec\\nCoyuca de Benítez\\nCoyuca de Catalán\\nCoyutla\\nCozumel\\nCruillas\\nCuajimalpa de Morelos\\nCuajinicuilapa\\nCualác\\nCuapiaxtla\\nCuapiaxtla de Madero\\nCuatro Ciénegas\\nCuauhtémoc\\nCuauhtémoc\\nCuauhtémoc\\nCuauhtémoc\\nCuautempan\\nCuautepec\\nCuautepec de Hinojosa\\nCuautinchán\\nCuautitlán\\nCuautitlán de García Barragán\\nCuautitlán Izcalli\\nCuautla\\nCuautla\\nCuautlancingo\\nCuaxomulco\\nCuayuca de Andrade\\nCucurpe\\nCuencamé\\nCuerámaro\\nCuernavaca\\nCuetzala del Progreso\\nCuetzalan del Progreso\\nCuichapa\\nCuilápam de Guerrero\\nCuitláhuac\\nCuitzeo\\nCuliacán\\nCumpas\\nCuncunul\\nCunduacán\\nCuquío\\nCusihuiriachi\\nCutzamala de Pinzón\\nCuyamecalco Villa de Zaragoza\\nCuyoaco\\nCuzamá\\nDegollado\\nDel Nayar\\nDelicias\\nDivisaderos\\nDoctor Arroyo\\nDoctor Coss\\nDoctor González\\nDoctor Mora\\nDolores Hidalgo Cuna de la Independencia Nacional\\nDomingo Arenas\\nDonato Guerra\\nDr. Belisario Domínguez\\nDurango\\nDzán\\nDzemul\\nDzidzantún\\nDzilam de Bravo\\nDzilam González\\nDzitás\\nDzoncauich\\nEbano\\nEcatepec de Morelos\\nEcatzingo\\nEcuandureo\\nEduardo Neri\\nEjutla\\nEl Arenal\\nEl Arenal\\nEl Barrio de la Soledad\\nEl Bosque\\nEl Carmen\\nEl Carmen Tequexquitla\\nEl Espinal\\nEl Fuerte\\nEl Grullo\\nEl Higo\\nEl Limón\\nEl Llano\\nEl Mante\\nEl Marqués\\nEl Naranjo\\nEl Oro\\nEl Oro\\nEl Plateado de Joaquín Amaro\\nEl Porvenir\\nEl Salto\\nEl Salvador\\nEl Tule\\nElota\\nEloxochitlán\\nEloxochitlán\\nEloxochitlán de Flores Magón\\nEmiliano Zapata\\nEmiliano Zapata\\nEmiliano Zapata\\nEmiliano Zapata\\nEmiliano Zapata\\nEmpalme\\nEncarnación de Díaz\\nEnsenada\\nEpatlán\\nEpazoyucan\\nEpitacio Huerta\\nErongarícuaro\\nEscárcega\\nEscobedo\\nEscuinapa\\nEscuintla\\nEspañita\\nEsperanza\\nEspinal\\nEspita\\nEtchojoa\\nEtzatlán\\nEzequiel Montes\\nFelipe Carrillo Puerto\\nFilomeno Mata\\nFlorencio Villarreal\\nFortín\\nFrancisco I. Madero\\nFrancisco I. Madero\\nFrancisco León\\nFrancisco Z. Mena\\nFresnillo\\nFresnillo de Trujano\\nFrontera\\nFrontera Comalapa\\nFrontera Hidalgo\\nFronteras\\nGabriel Zamora\\nGaleana\\nGaleana\\nGarcía\\nGenaro Codina\\nGeneral Bravo\\nGeneral Canuto A. Neri\\nGeneral Cepeda\\nGeneral Enrique Estrada\\nGeneral Escobedo\\nGeneral Felipe Ángeles\\nGeneral Francisco R. Murguía\\nGeneral Heliodoro Castillo\\nGeneral Pánfilo Natera\\nGeneral Plutarco Elías Calles\\nGeneral Simón Bolívar\\nGeneral Terán\\nGeneral Treviño\\nGeneral Zaragoza\\nGeneral Zuazua\\nGómez Farías\\nGómez Farías\\nGómez Farías\\nGómez Palacio\\nGonzález\\nGran Morelos\\nGranados\\nGuachinango\\nGuachochi\\nGuadalajara\\nGuadalcázar\\nGuadalupe\\nGuadalupe\\nGuadalupe\\nGuadalupe\\nGuadalupe de Ramírez\\nGuadalupe Etla\\nGuadalupe Victoria\\nGuadalupe Victoria\\nGuadalupe y Calvo\\nGuanaceví\\nGuanajuato\\nGuasave\\nGuaymas\\nGuazapares\\nGuelatao de Juárez\\nGuerrero\\nGuerrero\\nGuerrero\\nGuevea de Humboldt\\nGustavo A. Madero\\nGustavo Díaz Ordaz\\nGutiérrez Zamora\\nGüémez\\nHalachó\\nHecelchakán\\nHermenegildo Galeana\\nHermosillo\\nHeroica Ciudad de Ejutla de Crespo\\nHeroica Ciudad de Huajuapan de León\\nHeroica Ciudad de Juchitán de Zaragoza\\nHeroica Ciudad de Tlaxiaco\\nHeroica Villa Tezoatlán de Segura y Luna, Cuna de la Independencia de Oaxaca\\nHidalgo\\nHidalgo\\nHidalgo\\nHidalgo\\nHidalgo\\nHidalgo del Parral\\nHidalgotitlán\\nHigueras\\nHocabá\\nHoctún\\nHomún\\nHoney\\nHopelchén\\nHostotipaquillo\\nHuachinera\\nHuajicori\\nHualahuises\\nHuamantla\\nHuamuxtitlán\\nHuandacareo\\nHuanímaro\\nHuaniqueo\\nHuanusco\\nHuaquechula\\nHuásabas\\nHuasca de Ocampo\\nHuatabampo\\nHuatlatlauca\\nHuatusco\\nHuauchinango\\nHuautepec\\nHuautla\\nHuautla de Jiménez\\nHuayacocotla\\nHuazalingo\\nHuehuetán\\nHuehuetla\\nHuehuetla\\nHuehuetlán\\nHuehuetlán el Chico\\nHuehuetlán el Grande\\nHuehuetoca\\nHuejotitán\\nHuejotzingo\\nHuejúcar\\nHuejuquilla el Alto\\nHuejutla de Reyes\\nHuépac\\nHuetamo\\nHueyapan\\nHueyapan de Ocampo\\nHueyotlipan\\nHueypoxtla\\nHueytamalco\\nHueytlalpan\\nHuhí\\nHuichapan\\nHuiloapan de Cuauhtémoc\\nHuimanguillo\\nHuimilpan\\nHuiramba\\nHuitiupán\\nHuitzilac\\nHuitzilan de Serdán\\nHuitziltepec\\nHuitzuco de los Figueroa\\nHuixquilucan\\nHuixtán\\nHuixtla\\nHunucmá\\nIgnacio de la Llave\\nIgnacio Zaragoza\\nIguala de la Independencia\\nIgualapa\\nIlamatlán\\nIliatenco\\nImuris\\nIndaparapeo\\nIndé\\nIrapuato\\nIrimbo\\nIsidro Fabela\\nIsla\\nIsla Mujeres\\nIturbide\\nIxcamilpa de Guerrero\\nIxcaquixtla\\nIxcateopan de Cuauhtémoc\\nIxcatepec\\nIxhuacán de los Reyes\\nIxhuatán\\nIxhuatlán de Madero\\nIxhuatlán del Café\\nIxhuatlán del Sureste\\nIxhuatlancillo\\nIxil\\nIxmatlahuacan\\nIxmiquilpan\\nIxpantepec Nieves\\nIxtacamaxtitlán\\nIxtacomitán\\nIxtacuixtla de Mariano Matamoros\\nIxtaczoquitlán\\nIxtapa\\nIxtapaluca\\nIxtapan de la Sal\\nIxtapan del Oro\\nIxtapangajoya\\nIxtenco\\nIxtepec\\nIxtlahuaca\\nIxtlahuacán\\nIxtlahuacán de los Membrillos\\nIxtlahuacán del Río\\nIxtlán\\nIxtlán de Juárez\\nIxtlán del Río\\nIzamal\\nIztacalco\\nIztapalapa\\nIzúcar de Matamoros\\nJacala de Ledezma\\nJacona\\nJala\\nJalacingo\\nJalapa\\nJalatlaco\\nJalcomulco\\nJalostotitlán\\nJalpa\\nJalpa de Méndez\\nJalpan\\nJalpan de Serra\\nJaltenco\\nJáltipan\\nJaltocán\\nJamapa\\nJamay\\nJanos\\nJantetelco\\nJaral del Progreso\\nJaumave\\nJerécuaro\\nJerez\\nJesús Carranza\\nJesús María\\nJesús María\\nJilotepec\\nJilotepec\\nJilotlán de los Dolores\\nJilotzingo\\nJiménez\\nJiménez\\nJiménez\\nJiménez\\nJiménez del Teul\\nJiquilpan\\nJiquipilas\\nJiquipilco\\nJitotol\\nJiutepec\\nJocotepec\\nJocotitlán\\nJojutla\\nJolalpan\\nJonacatepec\\nJonotla\\nJonuta\\nJopala\\nJoquicingo\\nJosé Azueta\\nJosé Joaquín de Herrera\\nJosé María Morelos\\nJosé Sixto Verduzco\\nJuan Aldama\\nJuan C. Bonilla\\nJuan Galindo\\nJuan N. Méndez\\nJuan R. Escudero\\nJuan Rodríguez Clara\\nJuanacatlán\\nJuárez\\nJuárez\\nJuárez\\nJuárez\\nJuárez\\nJuárez Hidalgo\\nJuchipila\\nJuchique de Ferrer\\nJuchitán\\nJuchitepec\\nJuchitlán\\nJulimes\\nJungapeo\\nKanasín\\nKantunil\\nKaua\\nKinchil\\nKopomá\\nLa Antigua\\nLa Barca\\nLa Colorada\\nLa Compañía\\nLa Concordia\\nLa Cruz\\nLa Grandeza\\nLa Huacana\\nLa Huerta\\nLa Independencia\\nLa Libertad\\nLa Magdalena Contreras\\nLa Magdalena Tlaltelulco\\nLa Magdalena Tlatlauquitepec\\nLa Manzanilla de la Paz\\nLa Misión\\nLa Paz\\nLa Paz\\nLa Pe\\nLa Perla\\nLa Piedad\\nLa Reforma\\nLa Trinidad Vista Hermosa\\nLa Trinitaria\\nLa Unión de Isidoro Montes de Oca\\nLa Yesca\\nLafragua\\nLagos de Moreno\\nLagunillas\\nLagunillas\\nLamadrid\\nLampazos de Naranjo\\nLanda de Matamoros\\nLandero y Coss\\nLarráinzar\\nLas Choapas\\nLas Margaritas\\nLas Minas\\nLas Rosas\\nLas Vigas de Ramírez\\nLázaro Cárdenas\\nLázaro Cárdenas\\nLázaro Cárdenas\\nLeón\\nLeonardo Bravo\\nLerdo\\nLerdo de Tejada\\nLerma\\nLibres\\nLinares\\nLlera\\nLolotla\\nLoma Bonita\\nLópez\\nLoreto\\nLoreto\\nLos Aldamas\\nLos Cabos\\nLos Herreras\\nLos Ramones\\nLos Reyes\\nLos Reyes\\nLos Reyes de Juárez\\nLuis Moya\\nLuvianos\\nMacuspana\\nMadera\\nMadero\\nMagdalena\\nMagdalena\\nMagdalena\\nMagdalena Apasco\\nMagdalena Jaltepec\\nMagdalena Mixtepec\\nMagdalena Ocotlán\\nMagdalena Peñasco\\nMagdalena Teitipac\\nMagdalena Tequisistlán\\nMagdalena Tlacotepec\\nMagdalena Yodocono de Porfirio Díaz\\nMagdalena Zahuatlán\\nMaguarichi\\nMainero\\nMalinalco\\nMalinaltepec\\nMaltrata\\nMama\\nManí\\nManlio Fabio Altamirano\\nManuel Benavides\\nManuel Doblado\\nManzanillo\\nMapastepec\\nMapimí\\nMaravatío\\nMaravilla Tenejapa\\nMarcos Castellanos\\nMariano Escobedo\\nMarín\\nMariscala de Juárez\\nMarquelia\\nMarqués de Comillas\\nMartínez de la Torre\\nMártir de Cuilapan\\nMártires de Tacubaya\\nMascota\\nMatachí\\nMatamoros\\nMatamoros\\nMatamoros\\nMatehuala\\nMatías Romero Avendaño\\nMatlapa\\nMaxcanú\\nMayapán\\nMazamitla\\nMazapa de Madero\\nMazapil\\nMazapiltepec de Juárez\\nMazatán\\nMazatán\\nMazatecochco de José María Morelos\\nMazatepec\\nMazatlán\\nMazatlán Villa de Flores\\nMecatlán\\nMecayapan\\nMedellín\\nMelchor Ocampo\\nMelchor Ocampo\\nMelchor Ocampo\\nMéndez\\nMeoqui\\nMérida\\nMesones Hidalgo\\nMetapa\\nMetepec\\nMetepec\\nMetlatónoc\\nMetztitlán\\nMexicali\\nMexicaltzingo\\nMexquitic de Carmona\\nMexticacán\\nMezquital\\nMezquital del Oro\\nMezquitic\\nMiacatlán\\nMiahuatlán\\nMiahuatlán de Porfirio Díaz\\nMier\\nMier y Noriega\\nMiguel Alemán\\nMiguel Auza\\nMiguel Hidalgo\\nMilpa Alta\\nMina\\nMinatitlán\\nMinatitlán\\nMineral de la Reforma\\nMineral del Chico\\nMineral del Monte\\nMiquihuana\\nMisantla\\nMitontic\\nMixistlán de la Reforma\\nMixquiahuala de Juárez\\nMixtla\\nMixtla de Altamirano\\nMixtlán\\nMochitlán\\nMocochá\\nMocorito\\nMoctezuma\\nMoctezuma\\nMolango de Escamilla\\nMolcaxac\\nMoloacán\\nMomax\\nMonclova\\nMonjas\\nMonte Escobedo\\nMontecristo de Guerrero\\nMontemorelos\\nMonterrey\\nMorelia\\nMorelos\\nMorelos\\nMorelos\\nMorelos\\nMorelos\\nMoris\\nMoroleón\\nMotozintla\\nMotul\\nMoyahua de Estrada\\nMúgica\\nMulegé\\nMuna\\nMuñoz de Domingo Arenas\\nMuxupip\\nMúzquiz\\nNacajuca\\nNaco\\nNácori Chico\\nNacozari de García\\nNadadores\\nNahuatzen\\nNamiquipa\\nNanacamilpa de Mariano Arista\\nNanchital de Lázaro Cárdenas del Río\\nNaolinco\\nNaranjal\\nNaranjos Amatlán\\nNatividad\\nNatívitas\\nNaucalpan de Juárez\\nNaupan\\nNautla\\nNauzontla\\nNava\\nNavojoa\\nNavolato\\nNazareno Etla\\nNazas\\nNealtican\\nNejapa de Madero\\nNextlalpan\\nNezahualcóyotl\\nNicolás Bravo\\nNicolás Flores\\nNicolás Romero\\nNicolás Ruíz\\nNochistlán de Mejía\\nNocupétaro\\nNogales\\nNogales\\nNombre de Dios\\nNonoava\\nNopala de Villagrán\\nNopaltepec\\nNopalucan\\nNoria de Ángeles\\nNuevo Casas Grandes\\nNuevo Ideal\\nNuevo Laredo\\nNuevo Morelos\\nNuevo Parangaricutiro\\nNuevo Urecho\\nNuevo Zoquiápam\\nNumarán\\nOaxaca de Juárez\\nOcampo\\nOcampo\\nOcampo\\nOcampo\\nOcampo\\nOcampo\\nOcosingo\\nOcotepec\\nOcotepec\\nOcotlán\\nOcotlán de Morelos\\nOcoyoacac\\nOcoyucan\\nOcozocoautla de Espinosa\\nOcuilan\\nOcuituco\\nOjinaga\\nOjocaliente\\nOjuelos de Jalisco\\nOlinalá\\nOlintla\\nOluta\\nOmealca\\nOmetepec\\nOmitlán de Juárez\\nOnavas\\nOpichén\\nOpodepe\\nOquitoa\\nOriental\\nOrizaba\\nOstuacán\\nOsumacinta\\nOtáez\\nOtatitlán\\nOteapan\\nOthón P. Blanco\\nOtumba\\nOtzoloapan\\nOtzolotepec\\nOxchuc\\nOxkutzcab\\nOzuluama de Mascareñas\\nOzumba\\nPabellón de Arteaga\\nPachuca de Soto\\nPacula\\nPadilla\\nPahuatlán\\nPajacuarán\\nPajapan\\nPalenque\\nPalizada\\nPalmar de Bravo\\nPalmillas\\nPanabá\\nPanindícuaro\\nPanotla\\nPantelhó\\nPantepec\\nPantepec\\nPánuco\\nPánuco\\nPánuco de Coronado\\nPapalotla\\nPapalotla de Xicohténcatl\\nPapantla\\nParacho\\nParácuaro\\nParaíso\\nParás\\nParras\\nPaso de Ovejas\\nPaso del Macho\\nPátzcuaro\\nPedro Ascencio Alquisiras\\nPedro Escobedo\\nPeñamiller\\nPenjamillo\\nPénjamo\\nPeñón Blanco\\nPeribán\\nPerote\\nPesquería\\nPetatlán\\nPetlalcingo\\nPeto\\nPiaxtla\\nPichucalco\\nPiedras Negras\\nPihuamo\\nPijijiapan\\nPilcaya\\nPinal de Amoles\\nPinos\\nPinotepa de Don Luis\\nPisaflores\\nPitiquito\\nPlatón Sánchez\\nPlaya Vicente\\nPlayas de Rosarito\\nPluma Hidalgo\\nPoanas\\nPolotitlán\\nPoncitlán\\nPoza Rica de Hidalgo\\nPraxedis G. Guerrero\\nProgreso\\nProgreso\\nProgreso de Obregón\\nPuebla\\nPueblo Nuevo\\nPueblo Nuevo\\nPueblo Nuevo Solistahuacán\\nPueblo Viejo\\nPuente de Ixtla\\nPuente Nacional\\nPuerto Peñasco\\nPuerto Vallarta\\nPungarabato\\nPurépero\\nPurísima del Rincón\\nPuruándiro\\nPutla Villa de Guerrero\\nQuecholac\\nQuechultenango\\nQueréndaro\\nQuerétaro\\nQuimixtlán\\nQuintana Roo\\nQuiriego\\nQuiroga\\nQuitupan\\nRafael Delgado\\nRafael Lara Grajales\\nRafael Lucio\\nRamos Arizpe\\nRayón\\nRayón\\nRayón\\nRayón\\nRayones\\nReforma\\nReforma de Pineda\\nReyes Etla\\nReynosa\\nRincón de Romos\\nRío Blanco\\nRío Bravo\\nRío Grande\\nRío Lagartos\\nRioverde\\nRiva Palacio\\nRodeo\\nRojas de Cuauhtémoc\\nRomita\\nRosales\\nRosamorada\\nRosario\\nRosario\\nRosario\\nRuíz\\nSabanilla\\nSabinas\\nSabinas Hidalgo\\nSacalum\\nSacramento\\nSahuaripa\\nSahuayo\\nSain Alto\\nSalamanca\\nSalina Cruz\\nSalinas\\nSalinas Victoria\\nSaltabarranca\\nSaltillo\\nSalto de Agua\\nSalvador Alvarado\\nSalvador Escalante\\nSalvatierra\\nSamahil\\nSan Agustín Amatengo\\nSan Agustín Atenango\\nSan Agustín Chayuco\\nSan Agustín de las Juntas\\nSan Agustín Etla\\nSan Agustín Loxicha\\nSan Agustín Metzquititlán\\nSan Agustín Tlacotepec\\nSan Agustín Tlaxiaca\\nSan Agustín Yatareni\\nSan Andrés Cabecera Nueva\\nSan Andrés Cholula\\nSan Andrés Dinicuiti\\nSan Andrés Duraznal\\nSan Andrés Huaxpaltepec\\nSan Andrés Huayápam\\nSan Andrés Ixtlahuaca\\nSan Andrés Lagunas\\nSan Andrés Nuxiño\\nSan Andrés Paxtlán\\nSan Andrés Sinaxtla\\nSan Andrés Solaga\\nSan Andrés Tenejapan\\nSan Andrés Teotilálpam\\nSan Andrés Tepetlapa\\nSan Andrés Tuxtla\\nSan Andrés Yaá\\nSan Andrés Zabache\\nSan Andrés Zautla\\nSan Antonino Castillo Velasco\\nSan Antonino el Alto\\nSan Antonino Monte Verde\\nSan Antonio\\nSan Antonio Acutla\\nSan Antonio Cañada\\nSan Antonio de la Cal\\nSan Antonio Huitepec\\nSan Antonio la Isla\\nSan Antonio Nanahuatípam\\nSan Antonio Sinicahua\\nSan Antonio Tepetlapa\\nSan Baltazar Chichicápam\\nSan Baltazar Loxicha\\nSan Baltazar Yatzachi el Bajo\\nSan Bartolo Coyotepec\\nSan Bartolo Soyaltepec\\nSan Bartolo Tutotepec\\nSan Bartolo Yautepec\\nSan Bartolomé Ayautla\\nSan Bartolomé Loxicha\\nSan Bartolomé Quialana\\nSan Bartolomé Yucuañe\\nSan Bartolomé Zoogocho\\nSan Bernardo\\nSan Bernardo Mixtepec\\nSan Blas\\nSan Blas Atempa\\nSan Buenaventura\\nSan Carlos\\nSan Carlos Yautepec\\nSan Ciro de Acosta\\nSan Cristóbal Amatlán\\nSan Cristóbal Amoltepec\\nSan Cristóbal de la Barranca\\nSan Cristóbal de las Casas\\nSan Cristóbal Lachirioag\\nSan Cristóbal Suchixtlahuaca\\nSan Damián Texóloc\\nSan Diego de Alejandría\\nSan Diego de la Unión\\nSan Diego la Mesa Tochimiltzingo\\nSan Dimas\\nSan Dionisio del Mar\\nSan Dionisio Ocotepec\\nSan Dionisio Ocotlán\\nSan Esteban Atatlahuca\\nSan Felipe\\nSan Felipe\\nSan Felipe de Jesús\\nSan Felipe del Progreso\\nSan Felipe Jalapa de Díaz\\nSan Felipe Orizatlán\\nSan Felipe Tejalápam\\nSan Felipe Teotlalcingo\\nSan Felipe Tepatlán\\nSan Felipe Usila\\nSan Fernando\\nSan Fernando\\nSan Francisco Cahuacuá\\nSan Francisco Cajonos\\nSan Francisco Chapulapa\\nSan Francisco Chindúa\\nSan Francisco de Borja\\nSan Francisco de Conchos\\nSan Francisco de los Romo\\nSan Francisco del Mar\\nSan Francisco del Oro\\nSan Francisco del Rincón\\nSan Francisco Huehuetlán\\nSan Francisco Ixhuatán\\nSan Francisco Jaltepetongo\\nSan Francisco Lachigoló\\nSan Francisco Logueche\\nSan Francisco Nuxaño\\nSan Francisco Ozolotepec\\nSan Francisco Sola\\nSan Francisco Telixtlahuaca\\nSan Francisco Teopan\\nSan Francisco Tetlanohcan\\nSan Francisco Tlapancingo\\nSan Gabriel\\nSan Gabriel Chilac\\nSan Gabriel Mixtepec\\nSan Gregorio Atzompa\\nSan Ignacio\\nSan Ignacio Cerro Gordo\\nSan Ignacio Río Muerto\\nSan Ildefonso Amatlán\\nSan Ildefonso Sola\\nSan Ildefonso Villa Alta\\nSan Jacinto Amilpas\\nSan Jacinto Tlacotepec\\nSan Javier\\nSan Jerónimo Coatlán\\nSan Jerónimo Silacayoapilla\\nSan Jerónimo Sosola\\nSan Jerónimo Taviche\\nSan Jerónimo Tecóatl\\nSan Jerónimo Tecuanipan\\nSan Jerónimo Tlacochahuaya\\nSan Jerónimo Xayacatlán\\nSan Jerónimo Zacualpan\\nSan Joaquín\\nSan Jorge Nuchita\\nSan José Ayuquila\\nSan José Chiapa\\nSan José Chiltepec\\nSan José de Gracia\\nSan José del Peñasco\\nSan José del Progreso\\nSan José del Rincón\\nSan José Estancia Grande\\nSan José Independencia\\nSan José Iturbide\\nSan José Lachiguiri\\nSan José Miahuatlán\\nSan José Teacalco\\nSan José Tenango\\nSan Juan Achiutla\\nSan Juan Atenco\\nSan Juan Atepec\\nSan Juan Atzompa\\nSan Juan Bautista Atatlahuca\\nSan Juan Bautista Coixtlahuaca\\nSan Juan Bautista Cuicatlán\\nSan Juan Bautista Guelache\\nSan Juan Bautista Jayacatlán\\nSan Juan Bautista Lo de Soto\\nSan Juan Bautista Suchitepec\\nSan Juan Bautista Tlachichilco\\nSan Juan Bautista Tlacoatzintepec\\nSan Juan Bautista Tuxtepec\\nSan Juan Bautista Valle Nacional\\nSan Juan Cacahuatepec\\nSan Juan Cancuc\\nSan Juan Chicomezúchil\\nSan Juan Chilateca\\nSan Juan Cieneguilla\\nSan Juan Coatzóspam\\nSan Juan Colorado\\nSan Juan Comaltepec\\nSan Juan Cotzocón\\nSan Juan de Guadalupe\\nSan Juan de los Cués\\nSan Juan de los Lagos\\nSan Juan de Sabinas\\nSan Juan del Estado\\nSan Juan del Río\\nSan Juan del Río\\nSan Juan del Río\\nSan Juan Diuxi\\nSan Juan Evangelista\\nSan Juan Evangelista Analco\\nSan Juan Guelavía\\nSan Juan Guichicovi\\nSan Juan Huactzinco\\nSan Juan Ihualtepec\\nSan Juan Juquila Mixes\\nSan Juan Juquila Vijanos\\nSan Juan Lachao\\nSan Juan Lachigalla\\nSan Juan Lajarcia\\nSan Juan Lalana\\nSan Juan Mazatlán\\nSan Juan Mixtepec -Dto. 08 -\\nSan Juan Mixtepec -Dto. 26 -\\nSan Juan Ñumí\\nSan Juan Ozolotepec\\nSan Juan Petlapa\\nSan Juan Quiahije\\nSan Juan Quiotepec\\nSan Juan Sayultepec\\nSan Juan Tabaá\\nSan Juan Tamazola\\nSan Juan Teita\\nSan Juan Teitipac\\nSan Juan Tepeuxila\\nSan Juan Teposcolula\\nSan Juan Yaeé\\nSan Juan Yatzona\\nSan Juan Yucuita\\nSan Juanito de Escobedo\\nSan Julián\\nSan Lorenzo\\nSan Lorenzo Albarradas\\nSan Lorenzo Axocomanitla\\nSan Lorenzo Cacaotepec\\nSan Lorenzo Cuaunecuiltitla\\nSan Lorenzo Texmelúcan\\nSan Lorenzo Victoria\\nSan Lucas\\nSan Lucas\\nSan Lucas Camotlán\\nSan Lucas Ojitlán\\nSan Lucas Quiaviní\\nSan Lucas Tecopilco\\nSan Lucas Zoquiápam\\nSan Luis Acatlán\\nSan Luis Amatlán\\nSan Luis de la Paz\\nSan Luis del Cordero\\nSan Luis Potosí\\nSan Luis Río Colorado\\nSan Marcial Ozolotepec\\nSan Marcos\\nSan Marcos\\nSan Marcos Arteaga\\nSan Martín Chalchicuautla\\nSan Martín de Bolaños\\nSan Martín de las Pirámides\\nSan Martín de los Cansecos\\nSan Martín Hidalgo\\nSan Martín Huamelúlpam\\nSan Martín Itunyoso\\nSan Martín Lachilá\\nSan Martín Peras\\nSan Martín Texmelucan\\nSan Martín Tilcajete\\nSan Martín Totoltepec\\nSan Martín Toxpalan\\nSan Martín Zacatepec\\nSan Mateo Atenco\\nSan Mateo Cajonos\\nSan Mateo del Mar\\nSan Mateo Etlatongo\\nSan Mateo Nejápam\\nSan Mateo Peñasco\\nSan Mateo Piñas\\nSan Mateo Río Hondo\\nSan Mateo Sindihui\\nSan Mateo Tlapiltepec\\nSan Mateo Yoloxochitlán\\nSan Mateo Yucutindó\\nSan Matías Tlalancaleca\\nSan Melchor Betaza\\nSan Miguel Achiutla\\nSan Miguel Ahuehuetitlán\\nSan Miguel Aloápam\\nSan Miguel Amatitlán\\nSan Miguel Amatlán\\nSan Miguel Chicahua\\nSan Miguel Chimalapa\\nSan Miguel Coatlán\\nSan Miguel de Allende\\nSan Miguel de Horcasitas\\nSan Miguel del Puerto\\nSan Miguel del Río\\nSan Miguel Ejutla\\nSan Miguel el Alto\\nSan Miguel el Grande\\nSan Miguel Huautla\\nSan Miguel Ixitlán\\nSan Miguel Mixtepec\\nSan Miguel Panixtlahuaca\\nSan Miguel Peras\\nSan Miguel Piedras\\nSan Miguel Quetzaltepec\\nSan Miguel Santa Flor\\nSan Miguel Soyaltepec\\nSan Miguel Suchixtepec\\nSan Miguel Tecomatlán\\nSan Miguel Tenango\\nSan Miguel Tequixtepec\\nSan Miguel Tilquiápam\\nSan Miguel Tlacamama\\nSan Miguel Tlacotepec\\nSan Miguel Totolapan\\nSan Miguel Tulancingo\\nSan Miguel Xoxtla\\nSan Miguel Yotao\\nSan Nicolás\\nSan Nicolás\\nSan Nicolás Buenos Aires\\nSan Nicolás de los Garza\\nSan Nicolás de los Ranchos\\nSan Nicolás Hidalgo\\nSan Nicolás Tolentino\\nSan Pablo Anicano\\nSan Pablo Coatlán\\nSan Pablo Cuatro Venados\\nSan Pablo del Monte\\nSan Pablo Etla\\nSan Pablo Huitzo\\nSan Pablo Huixtepec\\nSan Pablo Macuiltianguis\\nSan Pablo Tijaltepec\\nSan Pablo Villa de Mitla\\nSan Pablo Yaganiza\\nSan Pedro\\nSan Pedro Amuzgos\\nSan Pedro Apóstol\\nSan Pedro Atoyac\\nSan Pedro Cajonos\\nSan Pedro Cholula\\nSan Pedro Comitancillo\\nSan Pedro Coxcaltepec Cántaros\\nSan Pedro de la Cueva\\nSan Pedro del Gallo\\nSan Pedro el Alto\\nSan Pedro Garza García\\nSan Pedro Huamelula\\nSan Pedro Huilotepec\\nSan Pedro Ixcatlán\\nSan Pedro Ixtlahuaca\\nSan Pedro Jaltepetongo\\nSan Pedro Jicayán\\nSan Pedro Jocotipac\\nSan Pedro Juchatengo\\nSan Pedro Lagunillas\\nSan Pedro Mártir\\nSan Pedro Mártir Quiechapa\\nSan Pedro Mártir Yucuxaco\\nSan Pedro Mixtepec -Dto. 22 -\\nSan Pedro Mixtepec -Dto. 26 -\\nSan Pedro Molinos\\nSan Pedro Nopala\\nSan Pedro Ocopetatillo\\nSan Pedro Ocotepec\\nSan Pedro Pochutla\\nSan Pedro Quiatoni\\nSan Pedro Sochiápam\\nSan Pedro Tapanatepec\\nSan Pedro Taviche\\nSan Pedro Teozacoalco\\nSan Pedro Teutila\\nSan Pedro Tidaá\\nSan Pedro Tlaquepaque\\nSan Pedro Topiltepec\\nSan Pedro Totolápam\\nSan Pedro y San Pablo Ayutla\\nSan Pedro y San Pablo Teposcolula\\nSan Pedro y San Pablo Tequixtepec\\nSan Pedro Yaneri\\nSan Pedro Yeloixtlahuaca\\nSan Pedro Yólox\\nSan Pedro Yucunama\\nSan Rafael\\nSan Raymundo Jalpan\\nSan Salvador\\nSan Salvador el Seco\\nSan Salvador el Verde\\nSan Salvador Huixcolotla\\nSan Sebastián Abasolo\\nSan Sebastián Coatlán\\nSan Sebastián del Oeste\\nSan Sebastián Ixcapa\\nSan Sebastián Nicananduta\\nSan Sebastián Río Hondo\\nSan Sebastián Tecomaxtlahuaca\\nSan Sebastián Teitipac\\nSan Sebastián Tlacotepec\\nSan Sebastián Tutla\\nSan Simón Almolongas\\nSan Simón de Guerrero\\nSan Simón Zahuatlán\\nSan Vicente Coatlán\\nSan Vicente Lachixío\\nSan Vicente Nuñú\\nSan Vicente Tancuayalab\\nSanahcat\\nSanctórum de Lázaro Cárdenas\\nSanta Ana\\nSanta Ana\\nSanta Ana Ateixtlahuaca\\nSanta Ana Cuauhtémoc\\nSanta Ana del Valle\\nSanta Ana Maya\\nSanta Ana Nopalucan\\nSanta Ana Tavela\\nSanta Ana Tlapacoyan\\nSanta Ana Yareni\\nSanta Ana Zegache\\nSanta Apolonia Teacalco\\nSanta Bárbara\\nSanta Catalina Quierí\\nSanta Catarina\\nSanta Catarina\\nSanta Catarina\\nSanta Catarina Ayometla\\nSanta Catarina Cuixtla\\nSanta Catarina Ixtepeji\\nSanta Catarina Juquila\\nSanta Catarina Lachatao\\nSanta Catarina Loxicha\\nSanta Catarina Mechoacán\\nSanta Catarina Minas\\nSanta Catarina Quiané\\nSanta Catarina Quioquitani\\nSanta Catarina Tayata\\nSanta Catarina Ticuá\\nSanta Catarina Tlaltempan\\nSanta Catarina Yosonotú\\nSanta Catarina Zapoquila\\nSanta Clara\\nSanta Cruz\\nSanta Cruz Acatepec\\nSanta Cruz Amilpas\\nSanta Cruz de Bravo\\nSanta Cruz de Juventino Rosas\\nSanta Cruz Itundujia\\nSanta Cruz Mixtepec\\nSanta Cruz Nundaco\\nSanta Cruz Papalutla\\nSanta Cruz Quilehtla\\nSanta Cruz Tacache de Mina\\nSanta Cruz Tacahua\\nSanta Cruz Tayata\\nSanta Cruz Tlaxcala\\nSanta Cruz Xitla\\nSanta Cruz Xoxocotlán\\nSanta Cruz Zenzontepec\\nSanta Elena\\nSanta Gertrudis\\nSanta Inés Ahuatempan\\nSanta Inés de Zaragoza\\nSanta Inés del Monte\\nSanta Inés Yatzeche\\nSanta Isabel\\nSanta Isabel Cholula\\nSanta Isabel Xiloxoxtla\\nSanta Lucía del Camino\\nSanta Lucía Miahuatlán\\nSanta Lucía Monteverde\\nSanta Lucía Ocotlán\\nSanta Magdalena Jicotlán\\nSanta María Alotepec\\nSanta María Apazco\\nSanta María Atzompa\\nSanta María Camotlán\\nSanta María Chachoápam\\nSanta María Chilchotla\\nSanta María Chimalapa\\nSanta María Colotepec\\nSanta María Cortijo\\nSanta María Coyotepec\\nSanta María de la Paz\\nSanta María de los Ángeles\\nSanta María del Oro\\nSanta María del Oro\\nSanta María del Río\\nSanta María del Rosario\\nSanta María del Tule\\nSanta María Ecatepec\\nSanta María Guelacé\\nSanta María Guienagati\\nSanta María Huatulco\\nSanta María Huazolotitlán\\nSanta María Ipalapa\\nSanta María Ixcatlán\\nSanta María Jacatepec\\nSanta María Jalapa del Marqués\\nSanta María Jaltianguis\\nSanta María la Asunción\\nSanta María Lachixío\\nSanta María Mixtequilla\\nSanta María Nativitas\\nSanta María Nduayaco\\nSanta María Ozolotepec\\nSanta María Pápalo\\nSanta María Peñoles\\nSanta María Petapa\\nSanta María Quiegolani\\nSanta María Sola\\nSanta María Tataltepec\\nSanta María Tecomavaca\\nSanta María Temaxcalapa\\nSanta María Temaxcaltepec\\nSanta María Teopoxco\\nSanta María Tepantlali\\nSanta María Texcatitlán\\nSanta María Tlahuitoltepec\\nSanta María Tlalixtac\\nSanta María Tonameca\\nSanta María Totolapilla\\nSanta María Xadani\\nSanta María Yalina\\nSanta María Yavesía\\nSanta María Yolotepec\\nSanta María Yosoyúa\\nSanta María Yucuhiti\\nSanta María Zacatepec\\nSanta María Zaniza\\nSanta María Zoquitlán\\nSantiago\\nSantiago Amoltepec\\nSantiago Apoala\\nSantiago Apóstol\\nSantiago Astata\\nSantiago Atitlán\\nSantiago Ayuquililla\\nSantiago Cacaloxtepec\\nSantiago Camotlán\\nSantiago Chazumba\\nSantiago Choápam\\nSantiago Comaltepec\\nSantiago de Anaya\\nSantiago del Río\\nSantiago el Pinar\\nSantiago Huajolotitlán\\nSantiago Huauclilla\\nSantiago Ihuitlán Plumas\\nSantiago Ixcuintepec\\nSantiago Ixcuintla\\nSantiago Ixtayutla\\nSantiago Jamiltepec\\nSantiago Jocotepec\\nSantiago Juxtlahuaca\\nSantiago Lachiguiri\\nSantiago Lalopa\\nSantiago Laollaga\\nSantiago Laxopa\\nSantiago Llano Grande\\nSantiago Maravatío\\nSantiago Matatlán\\nSantiago Miahuatlán\\nSantiago Miltepec\\nSantiago Minas\\nSantiago Nacaltepec\\nSantiago Nejapilla\\nSantiago Niltepec\\nSantiago Nundiche\\nSantiago Nuyoó\\nSantiago Papasquiaro\\nSantiago Pinotepa Nacional\\nSantiago Sochiapan\\nSantiago Suchilquitongo\\nSantiago Tamazola\\nSantiago Tapextla\\nSantiago Tenango\\nSantiago Tepetlapa\\nSantiago Tetepec\\nSantiago Texcalcingo\\nSantiago Textitlán\\nSantiago Tilantongo\\nSantiago Tillo\\nSantiago Tlazoyaltepec\\nSantiago Tulantepec de Lugo Guerrero\\nSantiago Tuxtla\\nSantiago Xanica\\nSantiago Xiacuí\\nSantiago Yaitepec\\nSantiago Yaveo\\nSantiago Yolomécatl\\nSantiago Yosondúa\\nSantiago Yucuyachi\\nSantiago Zacatepec\\nSantiago Zoochila\\nSanto Domingo\\nSanto Domingo Albarradas\\nSanto Domingo Armenta\\nSanto Domingo Chihuitán\\nSanto Domingo de Morelos\\nSanto Domingo Ingenio\\nSanto Domingo Ixcatlán\\nSanto Domingo Nuxaá\\nSanto Domingo Ozolotepec\\nSanto Domingo Petapa\\nSanto Domingo Roayaga\\nSanto Domingo Tehuantepec\\nSanto Domingo Teojomulco\\nSanto Domingo Tepuxtepec\\nSanto Domingo Tlatayápam\\nSanto Domingo Tomaltepec\\nSanto Domingo Tonalá\\nSanto Domingo Tonaltepec\\nSanto Domingo Xagacía\\nSanto Domingo Yanhuitlán\\nSanto Domingo Yodohino\\nSanto Domingo Zanatepec\\nSanto Tomás\\nSanto Tomás Hueyotlipan\\nSanto Tomás Jalieza\\nSanto Tomás Mazaltepec\\nSanto Tomás Ocotepec\\nSanto Tomás Tamazulapan\\nSantos Reyes Nopala\\nSantos Reyes Pápalo\\nSantos Reyes Tepejillo\\nSantos Reyes Yucuná\\nSáric\\nSatevó\\nSaucillo\\nSayula\\nSayula de Alemán\\nSenguio\\nSeyé\\nSierra Mojada\\nSilacayoápam\\nSilao\\nSiltepec\\nSimojovel\\nSinaloa\\nSinanché\\nSinguilucan\\nSitalá\\nSitio de Xitlapehua\\nSochiapa\\nSocoltenango\\nSoconusco\\nSoledad Atzompa\\nSoledad de Doblado\\nSoledad de Graciano Sánchez\\nSoledad Etla\\nSolidaridad\\nSolosuchiapa\\nSoltepec\\nSombrerete\\nSoteapan\\nSoto la Marina\\nSotuta\\nSoyaló\\nSoyaniquilpan de Juárez\\nSoyopa\\nSuaqui Grande\\nSuchiapa\\nSuchiate\\nSúchil\\nSucilá\\nSudzal\\nSultepec\\nSuma\\nSunuapa\\nSusticacán\\nSusupuato\\nTabasco\\nTacámbaro\\nTacotalpa\\nTahdziú\\nTahmek\\nTala\\nTalpa de Allende\\nTamalín\\nTamasopo\\nTamazula\\nTamazula de Gordiano\\nTamazulápam del Espíritu Santo\\nTamazunchale\\nTamiahua\\nTampacán\\nTampamolón Corona\\nTampico\\nTampico Alto\\nTamuín\\nTancanhuitz\\nTancítaro\\nTancoco\\nTanetze de Zaragoza\\nTangamandapio\\nTangancícuaro\\nTanhuato\\nTaniche\\nTanlajás\\nTanquián de Escobedo\\nTantima\\nTantoyuca\\nTapachula\\nTapalapa\\nTapalpa\\nTapilula\\nTarandacuao\\nTaretan\\nTarímbaro\\nTarimoro\\nTasquillo\\nTatahuicapan de Juárez\\nTataltepec de Valdés\\nTatatila\\nTaxco de Alarcón\\nTeabo\\nTeapa\\nTecali de Herrera\\nTecalitlán\\nTecámac\\nTecamachalco\\nTecate\\nTechaluta de Montenegro\\nTecoanapa\\nTecoh\\nTecolotlán\\nTecolutla\\nTecomán\\nTecomatlán\\nTecozautla\\nTécpan de Galeana\\nTecpatán\\nTecuala\\nTehuacán\\nTehuipango\\nTehuitzingo\\nTejupilco\\nTekal de Venegas\\nTekantó\\nTekax\\nTekit\\nTekom\\nTelchac Pueblo\\nTelchac Puerto\\nTeloloapan\\nTemamatla\\nTemascalapa\\nTemascalcingo\\nTemascaltepec\\nTemax\\nTemixco\\nTemoac\\nTemoaya\\nTemósachic\\nTemozón\\nTempoal\\nTenabo\\nTenamaxtlán\\nTenampa\\nTenampulco\\nTenancingo\\nTenancingo\\nTenango de Doria\\nTenango del Aire\\nTenango del Valle\\nTenejapa\\nTenochtitlán\\nTenosique\\nTeocaltiche\\nTeocelo\\nTeococuilco de Marcos Pérez\\nTeocuitatlán de Corona\\nTeolocholco\\nTeoloyucan\\nTeopantlán\\nTeopisca\\nTeotihuacán\\nTeotitlán de Flores Magón\\nTeotitlán del Valle\\nTeotlalco\\nTeotongo\\nTepache\\nTepakán\\nTepalcatepec\\nTepalcingo\\nTepanco de López\\nTepango de Rodríguez\\nTepatitlán de Morelos\\nTepatlaxco\\nTepatlaxco de Hidalgo\\nTepeaca\\nTepeapulco\\nTepechitlán\\nTepecoacuilco de Trujano\\nTepehuacán de Guerrero\\nTepehuanes\\nTepeji del Río de Ocampo\\nTepelmeme Villa de Morelos\\nTepemaxalco\\nTepeojuma\\nTepetitla de Lardizábal\\nTepetitlán\\nTepetlán\\nTepetlaoxtoc\\nTepetlixpa\\nTepetongo\\nTepetzintla\\nTepetzintla\\nTepexco\\nTepexi de Rodríguez\\nTepeyahualco\\nTepeyahualco de Cuauhtémoc\\nTepeyanco\\nTepezalá\\nTepic\\nTepotzotlán\\nTepoztlán\\nTequila\\nTequila\\nTequisquiapan\\nTequixquiac\\nTerrenate\\nTetecala\\nTetela de Ocampo\\nTetela del Volcán\\nTeteles de Avila Castillo\\nTetepango\\nTetipac\\nTetiz\\nTetla de la Solidaridad\\nTetlatlahuca\\nTeuchitlán\\nTeúl de González Ortega\\nTexcaltitlán\\nTexcalyacac\\nTexcatepec\\nTexcoco\\nTexhuacán\\nTexistepec\\nTeya\\nTeziutlán\\nTezonapa\\nTezontepec de Aldama\\nTezoyuca\\nTianguismanalco\\nTianguistenco\\nTianguistengo\\nTicul\\nTierra Blanca\\nTierra Blanca\\nTierra Nueva\\nTihuatlán\\nTijuana\\nTila\\nTilapa\\nTimilpan\\nTimucuy\\nTingambato\\nTinguindín\\nTinum\\nTiquicheo de Nicolás Romero\\nTixcacalcupul\\nTixkokob\\nTixmehuac\\nTixpéhual\\nTixtla de Guerrero\\nTizapán el Alto\\nTizayuca\\nTizimín\\nTlachichilco\\nTlachichuca\\nTlacoachistlahuaca\\nTlacoapa\\nTlacojalpan\\nTlacolula de Matamoros\\nTlacolulan\\nTlacotalpan\\nTlacotepec de Benito Juárez\\nTlacotepec de Mejía\\nTlacotepec Plumas\\nTlacuilotepec\\nTláhuac\\nTlahualilo\\nTlahuapan\\nTlahuelilpan\\nTlahuiltepa\\nTlajomulco de Zúñiga\\nTlalchapa\\nTlalixcoyan\\nTlalixtac de Cabrera\\nTlalixtaquilla de Maldonado\\nTlalmanalco\\nTlalnelhuayocan\\nTlalnepantla\\nTlalnepantla de Baz\\nTlalpan\\nTlalpujahua\\nTlaltenango\\nTlaltenango de Sánchez Román\\nTlaltetela\\nTlaltizapán de Zapata\\nTlanalapa\\nTlanchinol\\nTlanepantla\\nTlaola\\nTlapa de Comonfort\\nTlapacoya\\nTlapacoyan\\nTlapanalá\\nTlapehuala\\nTlaquilpa\\nTlaquiltenango\\nTlatlauquitepec\\nTlatlaya\\nTlaxcala\\nTlaxco\\nTlaxco\\nTlaxcoapan\\nTlayacapan\\nTlazazalca\\nTlilapan\\nTocatlán\\nTochimilco\\nTochtepec\\nTocumbo\\nTolcayuca\\nTolimán\\nTolimán\\nToluca\\nTomatlán\\nTomatlán\\nTonalá\\nTonalá\\nTonanitla\\nTonatico\\nTonaya\\nTonayán\\nTonila\\nTopia\\nTorreón\\nTotatiche\\nTotolac\\nTotolapa\\nTotolapan\\nTotoltepec de Guerrero\\nTotontepec Villa de Morelos\\nTototlán\\nTotutla\\nTrancoso\\nTres Valles\\nTrincheras\\nTrinidad García de la Cadena\\nTrinidad Zaachila\\nTubutama\\nTula\\nTula de Allende\\nTulancingo de Bravo\\nTulcingo\\nTultepec\\nTultitlán\\nTulum\\nTumbalá\\nTumbiscatío\\nTunkás\\nTuricato\\nTuxcacuesco\\nTuxcueca\\nTuxpan\\nTuxpan\\nTuxpan\\nTuxpan\\nTuxtilla\\nTuxtla Chico\\nTuxtla Gutiérrez\\nTuzamapan de Galeana\\nTuzantán\\nTuzantla\\nTzicatlacoyan\\nTzimol\\nTzintzuntzan\\nTzitzio\\nTzompantepec\\nTzucacab\\nUayma\\nUcú\\nUmán\\nUnión de San Antonio\\nUnión de Tula\\nUnión Hidalgo\\nUnión Juárez\\nUres\\nUriangato\\nUrique\\nUrsulo Galván\\nUruachi\\nUruapan\\nUxpanapa\\nValerio Trujano\\nValladolid\\nValle de Bravo\\nValle de Chalco Solidaridad\\nValle de Guadalupe\\nValle de Juárez\\nValle de Santiago\\nValle de Zaragoza\\nValle Hermoso\\nVallecillo\\nValparaíso\\nVanegas\\nVega de Alatorre\\nVenado\\nVenustiano Carranza\\nVenustiano Carranza\\nVenustiano Carranza\\nVenustiano Carranza\\nVeracruz\\nVetagrande\\nVicente Guerrero\\nVicente Guerrero\\nVictoria\\nVictoria\\nViesca\\nVilla Aldama\\nVilla Comaltitlán\\nVilla Corona\\nVilla Corzo\\nVilla de Allende\\nVilla de Álvarez\\nVilla de Arista\\nVilla de Arriaga\\nVilla de Chilapa de Díaz\\nVilla de Cos\\nVilla de Etla\\nVilla de Guadalupe\\nVilla de la Paz\\nVilla de Ramos\\nVilla de Reyes\\nVilla de Tamazulápam del Progreso\\nVilla de Tezontepec\\nVilla de Tututepec de Melchor Ocampo\\nVilla de Zaachila\\nVilla del Carbón\\nVilla Díaz Ordaz\\nVilla García\\nVilla González Ortega\\nVilla Guerrero\\nVilla Guerrero\\nVilla Hidalgo\\nVilla Hidalgo\\nVilla Hidalgo\\nVilla Hidalgo\\nVilla Hidalgo\\nVilla Juárez\\nVilla Pesqueira\\nVilla Purificación\\nVilla Sola de Vega\\nVilla Talea de Castro\\nVilla Tejúpam de la Unión\\nVilla Unión\\nVilla Victoria\\nVillaflores\\nVillagrán\\nVillagrán\\nVillaldama\\nVillamar\\nVillanueva\\nVista Hermosa\\nXalapa\\nXalisco\\nXaloztoc\\nXalpatláhuac\\nXaltocan\\nXayacatlán de Bravo\\nXichú\\nXico\\nXicohtzinco\\nXicoténcatl\\nXicotepec\\nXicotlán\\nXilitla\\nXiutetelco\\nXocchel\\nXochiapulco\\nXochiatipan\\nXochicoatlán\\nXochihuehuetlán\\nXochiltepec\\nXochimilco\\nXochistlahuaca\\nXochitepec\\nXochitlán de Vicente Suárez\\nXochitlán Todos Santos\\nXonacatlán\\nXoxocotla\\nYahualica\\nYahualica de González Gallo\\nYajalón\\nYanga\\nYaonáhuac\\nYauhquemehcan\\nYautepec\\nYaxcabá\\nYaxe\\nYaxkukul\\nYecapixtla\\nYécora\\nYecuatla\\nYehualtepec\\nYobaín\\nYogana\\nYurécuaro\\nYuriria\\nYutanduchi de Guerrero\\nZacapala\\nZacapoaxtla\\nZacapu\\nZacatecas\\nZacatelco\\nZacatepec\\nZacatlán\\nZacazonapan\\nZacoalco de Torres\\nZacualpan\\nZacualpan\\nZacualpan\\nZacualtipán de Ángeles\\nZamora\\nZapopan\\nZapotiltic\\nZapotitlán\\nZapotitlán de Méndez\\nZapotitlán de Vadillo\\nZapotitlán Lagunas\\nZapotitlán Palmas\\nZapotitlán Tablas\\nZapotlán de Juárez\\nZapotlán del Rey\\nZapotlán el Grande\\nZapotlanejo\\nZaragoza\\nZaragoza\\nZaragoza\\nZaragoza\\nZautla\\nZempoala\\nZentla\\nZihuatanejo de Azueta\\nZihuateutla\\nZiltlaltépec de Trinidad Sánchez Santos\\nZimapán\\nZimatlán de Álvarez\\nZinacantán\\nZinacantepec\\nZinacatepec\\nZináparo\\nZinapécuaro\\nZiracuaretiro\\nZirándaro\\nZitácuaro\\nZitlala\\nZongolica\\nZongozotla\\nZontecomatlán de López y Fuentes\\nZoquiapan\\nZoquitlán\\nZozocolco de Hidalgo\\nZumpahuacán\\nZumpango\\n'"
            ]
          },
          "metadata": {
            "tags": []
          },
          "execution_count": 3
        }
      ]
    },
    {
      "cell_type": "markdown",
      "metadata": {
        "id": "9yahyinQ8V8v",
        "colab_type": "text"
      },
      "source": [
        "Display the lenght of the whole corpus."
      ]
    },
    {
      "cell_type": "code",
      "metadata": {
        "id": "3OQvfEurwbiE",
        "colab_type": "code",
        "outputId": "469fb6bb-1907-4dde-cd31-b359a68ca90b",
        "colab": {
          "base_uri": "https://localhost:8080/",
          "height": 34
        }
      },
      "source": [
        "print ('Length of text: {} characters'.format(len(text)))"
      ],
      "execution_count": 4,
      "outputs": [
        {
          "output_type": "stream",
          "text": [
            "Length of text: 35530 characters\n"
          ],
          "name": "stdout"
        }
      ]
    },
    {
      "cell_type": "markdown",
      "metadata": {
        "id": "HD7h7nkT8bwF",
        "colab_type": "text"
      },
      "source": [
        "Display the lenght of unique characters from the corpus"
      ]
    },
    {
      "cell_type": "code",
      "metadata": {
        "id": "l7XRm3QxKqMQ",
        "colab_type": "code",
        "outputId": "2de0f715-70f5-48ce-90b5-de29a747a3d4",
        "colab": {
          "base_uri": "https://localhost:8080/",
          "height": 34
        }
      },
      "source": [
        "# The unique characters in the file\n",
        "vocab = sorted(set(text))\n",
        "print ('{} unique characters'.format(len(vocab)))"
      ],
      "execution_count": 5,
      "outputs": [
        {
          "output_type": "stream",
          "text": [
            "68 unique characters\n"
          ],
          "name": "stdout"
        }
      ]
    },
    {
      "cell_type": "markdown",
      "metadata": {
        "id": "gw6uP2fHK1Un",
        "colab_type": "text"
      },
      "source": [
        "## Process the text"
      ]
    },
    {
      "cell_type": "markdown",
      "metadata": {
        "id": "DmaXO46MK-hK",
        "colab_type": "text"
      },
      "source": [
        "### Vectorize the text\n",
        "\n",
        "Before training, we need to map strings to a numerical representation. Create two lookup tables: one mapping characters to numbers, and another for numbers to characters."
      ]
    },
    {
      "cell_type": "code",
      "metadata": {
        "id": "o_H5D1rsK0ZN",
        "colab_type": "code",
        "colab": {}
      },
      "source": [
        "# Creating a mapping from unique characters to indices\n",
        "char2idx = {u:i for i, u in enumerate(vocab)}\n",
        "idx2char = np.array(vocab)\n",
        "\n",
        "text_as_int = np.array([char2idx[c] for c in text])"
      ],
      "execution_count": 0,
      "outputs": []
    },
    {
      "cell_type": "code",
      "metadata": {
        "id": "_jGNwUKaLI7P",
        "colab_type": "code",
        "outputId": "6973a5f8-ba72-43f4-b604-d36f9904dbf6",
        "colab": {
          "base_uri": "https://localhost:8080/",
          "height": 416
        }
      },
      "source": [
        "print('{')\n",
        "for char,_ in zip(char2idx, range(20)):\n",
        "    print('  {:4s}: {:3d},'.format(repr(char), char2idx[char]))\n",
        "print('  ...\\n}')"
      ],
      "execution_count": 7,
      "outputs": [
        {
          "output_type": "stream",
          "text": [
            "{\n",
            "  '\\n':   0,\n",
            "  ' ' :   1,\n",
            "  ',' :   2,\n",
            "  '-' :   3,\n",
            "  '.' :   4,\n",
            "  '0' :   5,\n",
            "  '2' :   6,\n",
            "  '6' :   7,\n",
            "  '8' :   8,\n",
            "  'A' :   9,\n",
            "  'B' :  10,\n",
            "  'C' :  11,\n",
            "  'D' :  12,\n",
            "  'E' :  13,\n",
            "  'F' :  14,\n",
            "  'G' :  15,\n",
            "  'H' :  16,\n",
            "  'I' :  17,\n",
            "  'J' :  18,\n",
            "  'K' :  19,\n",
            "  ...\n",
            "}\n"
          ],
          "name": "stdout"
        }
      ]
    },
    {
      "cell_type": "markdown",
      "metadata": {
        "id": "uZaWw-0pLQ1x",
        "colab_type": "text"
      },
      "source": [
        "### Create training examples and targets"
      ]
    },
    {
      "cell_type": "code",
      "metadata": {
        "id": "R_Z1YroALTIU",
        "colab_type": "code",
        "outputId": "4be335e2-90e9-4e98-c3c1-cb277384e0fa",
        "colab": {
          "base_uri": "https://localhost:8080/",
          "height": 193
        }
      },
      "source": [
        "# The maximum length sentence we want for a single input in characters\n",
        "seq_length = 1\n",
        "examples_per_epoch = len(text)//seq_length\n",
        "\n",
        "# Create training examples / targets\n",
        "char_dataset = tf.data.Dataset.from_tensor_slices(text_as_int)\n",
        "\n",
        "for i in char_dataset.take(5):\n",
        "  print(idx2char[i.numpy()])\n",
        "  \n",
        "print(examples_per_epoch)"
      ],
      "execution_count": 8,
      "outputs": [
        {
          "output_type": "stream",
          "text": [
            "WARNING:tensorflow:From /usr/local/lib/python3.6/dist-packages/tensorflow/python/data/ops/iterator_ops.py:532: colocate_with (from tensorflow.python.framework.ops) is deprecated and will be removed in a future version.\n",
            "Instructions for updating:\n",
            "Colocations handled automatically by placer.\n",
            "A\n",
            "b\n",
            "a\n",
            "l\n",
            "á\n",
            "35530\n"
          ],
          "name": "stdout"
        }
      ]
    },
    {
      "cell_type": "code",
      "metadata": {
        "id": "6Qxb1AmzOyVT",
        "colab_type": "code",
        "outputId": "ca72e322-a626-4a31-90f3-9f4493a976f1",
        "colab": {
          "base_uri": "https://localhost:8080/",
          "height": 104
        }
      },
      "source": [
        "sequences = char_dataset.batch(seq_length+1, drop_remainder=True)\n",
        "\n",
        "for item in sequences.take(5):\n",
        "  print(repr(''.join(idx2char[item.numpy()])))"
      ],
      "execution_count": 9,
      "outputs": [
        {
          "output_type": "stream",
          "text": [
            "'Ab'\n",
            "'al'\n",
            "'á\\n'\n",
            "'Ab'\n",
            "'as'\n"
          ],
          "name": "stdout"
        }
      ]
    },
    {
      "cell_type": "code",
      "metadata": {
        "id": "kg25Uh3rO28V",
        "colab_type": "code",
        "colab": {}
      },
      "source": [
        "def split_input_target(chunk):\n",
        "    input_text = chunk[:-1]\n",
        "    target_text = chunk[1:]\n",
        "    return input_text, target_text\n",
        "\n",
        "dataset = sequences.map(split_input_target)"
      ],
      "execution_count": 0,
      "outputs": []
    },
    {
      "cell_type": "code",
      "metadata": {
        "id": "7A_Cd4HGO4x5",
        "colab_type": "code",
        "outputId": "eb1c5a7c-1cd2-407e-9ec5-ac777ea95088",
        "colab": {
          "base_uri": "https://localhost:8080/",
          "height": 52
        }
      },
      "source": [
        "for input_example, target_example in  dataset.take(1):\n",
        "  print ('Input data: ', repr(''.join(idx2char[input_example.numpy()])))\n",
        "  print ('Target data:', repr(''.join(idx2char[target_example.numpy()])))"
      ],
      "execution_count": 11,
      "outputs": [
        {
          "output_type": "stream",
          "text": [
            "Input data:  'A'\n",
            "Target data: 'b'\n"
          ],
          "name": "stdout"
        }
      ]
    },
    {
      "cell_type": "code",
      "metadata": {
        "id": "Nnpz4K70O_Hu",
        "colab_type": "code",
        "outputId": "86766cce-064e-480e-dab1-d8755cf6eee5",
        "colab": {
          "base_uri": "https://localhost:8080/",
          "height": 69
        }
      },
      "source": [
        "for i, (input_idx, target_idx) in enumerate(zip(input_example[:5], target_example[:5])):\n",
        "    print(\"Step {:4d}\".format(i))\n",
        "    print(\"  input: {} ({:s})\".format(input_idx, repr(idx2char[input_idx])))\n",
        "    print(\"  expected output: {} ({:s})\".format(target_idx, repr(idx2char[target_idx])))"
      ],
      "execution_count": 12,
      "outputs": [
        {
          "output_type": "stream",
          "text": [
            "Step    0\n",
            "  input: 9 ('A')\n",
            "  expected output: 35 ('b')\n"
          ],
          "name": "stdout"
        }
      ]
    },
    {
      "cell_type": "code",
      "metadata": {
        "id": "wcAx-RuxPBRX",
        "colab_type": "code",
        "outputId": "93cbe3d5-12d0-4d71-9500-2ea21525e433",
        "colab": {
          "base_uri": "https://localhost:8080/",
          "height": 34
        }
      },
      "source": [
        "# Batch size\n",
        "BATCH_SIZE = 64\n",
        "steps_per_epoch = examples_per_epoch//BATCH_SIZE\n",
        "\n",
        "# Buffer size to shuffle the dataset\n",
        "# (TF data is designed to work with possibly infinite sequences,\n",
        "# so it doesn't attempt to shuffle the entire sequence in memory. Instead,\n",
        "# it maintains a buffer in which it shuffles elements).\n",
        "BUFFER_SIZE = 10000\n",
        "\n",
        "dataset = dataset.shuffle(BUFFER_SIZE).batch(BATCH_SIZE, drop_remainder=True)\n",
        "\n",
        "dataset"
      ],
      "execution_count": 13,
      "outputs": [
        {
          "output_type": "execute_result",
          "data": {
            "text/plain": [
              "<DatasetV1Adapter shapes: ((64, 1), (64, 1)), types: (tf.int64, tf.int64)>"
            ]
          },
          "metadata": {
            "tags": []
          },
          "execution_count": 13
        }
      ]
    },
    {
      "cell_type": "code",
      "metadata": {
        "id": "pWirrErePD-h",
        "colab_type": "code",
        "colab": {}
      },
      "source": [
        "# Length of the vocabulary in chars\n",
        "vocab_size = len(vocab)\n",
        "\n",
        "# The embedding dimension\n",
        "embedding_dim = 256\n",
        "\n",
        "# Number of RNN units\n",
        "rnn_units = 1024"
      ],
      "execution_count": 0,
      "outputs": []
    },
    {
      "cell_type": "markdown",
      "metadata": {
        "id": "xGOCdqTX85rb",
        "colab_type": "text"
      },
      "source": [
        "Try to use GPUs if we can"
      ]
    },
    {
      "cell_type": "code",
      "metadata": {
        "id": "XItnkklIPF_Q",
        "colab_type": "code",
        "colab": {}
      },
      "source": [
        "if tf.test.is_gpu_available():\n",
        "  rnn = tf.keras.layers.CuDNNGRU\n",
        "else:\n",
        "  import functools\n",
        "  rnn = functools.partial(\n",
        "    tf.keras.layers.GRU, recurrent_activation='sigmoid')"
      ],
      "execution_count": 0,
      "outputs": []
    },
    {
      "cell_type": "code",
      "metadata": {
        "id": "MOd2k5pdPHxj",
        "colab_type": "code",
        "colab": {}
      },
      "source": [
        "def build_model(vocab_size, embedding_dim, rnn_units, batch_size):\n",
        "  model = tf.keras.Sequential([\n",
        "    tf.keras.layers.Embedding(vocab_size, embedding_dim,\n",
        "                              batch_input_shape=[batch_size, None]),\n",
        "    rnn(rnn_units,\n",
        "        return_sequences=True,\n",
        "        recurrent_initializer='glorot_uniform',\n",
        "        stateful=True),\n",
        "    tf.keras.layers.Dense(vocab_size)\n",
        "  ])\n",
        "  return model"
      ],
      "execution_count": 0,
      "outputs": []
    },
    {
      "cell_type": "code",
      "metadata": {
        "id": "mAYeZP07PJbA",
        "colab_type": "code",
        "colab": {}
      },
      "source": [
        "model = build_model(\n",
        "  vocab_size = len(vocab),\n",
        "  embedding_dim=embedding_dim,\n",
        "  rnn_units=rnn_units,\n",
        "  batch_size=BATCH_SIZE)"
      ],
      "execution_count": 0,
      "outputs": []
    },
    {
      "cell_type": "code",
      "metadata": {
        "id": "xKVbMT3sPLuF",
        "colab_type": "code",
        "outputId": "c526977a-d5d4-4563-b6f4-a7f1097fe10c",
        "colab": {
          "base_uri": "https://localhost:8080/",
          "height": 34
        }
      },
      "source": [
        "for input_example_batch, target_example_batch in dataset.take(1):\n",
        "  example_batch_predictions = model(input_example_batch)\n",
        "  print(example_batch_predictions.shape, \"# (batch_size, sequence_length, vocab_size)\")"
      ],
      "execution_count": 18,
      "outputs": [
        {
          "output_type": "stream",
          "text": [
            "(64, 1, 68) # (batch_size, sequence_length, vocab_size)\n"
          ],
          "name": "stdout"
        }
      ]
    },
    {
      "cell_type": "code",
      "metadata": {
        "id": "Y7pfFvZFPOdB",
        "colab_type": "code",
        "outputId": "f09e9510-c252-45cc-aa85-68fef29e18ba",
        "colab": {
          "base_uri": "https://localhost:8080/",
          "height": 243
        }
      },
      "source": [
        "model.summary()"
      ],
      "execution_count": 19,
      "outputs": [
        {
          "output_type": "stream",
          "text": [
            "_________________________________________________________________\n",
            "Layer (type)                 Output Shape              Param #   \n",
            "=================================================================\n",
            "embedding (Embedding)        (64, None, 256)           17408     \n",
            "_________________________________________________________________\n",
            "cu_dnngru (CuDNNGRU)         (64, None, 1024)          3938304   \n",
            "_________________________________________________________________\n",
            "dense (Dense)                (64, None, 68)            69700     \n",
            "=================================================================\n",
            "Total params: 4,025,412\n",
            "Trainable params: 4,025,412\n",
            "Non-trainable params: 0\n",
            "_________________________________________________________________\n"
          ],
          "name": "stdout"
        }
      ]
    },
    {
      "cell_type": "code",
      "metadata": {
        "id": "bN7fdIPnPQok",
        "colab_type": "code",
        "colab": {}
      },
      "source": [
        "sampled_indices = tf.random.categorical(example_batch_predictions[0], num_samples=1)\n",
        "sampled_indices = tf.squeeze(sampled_indices,axis=-1).numpy()"
      ],
      "execution_count": 0,
      "outputs": []
    },
    {
      "cell_type": "code",
      "metadata": {
        "id": "_VhpiR6UPSKY",
        "colab_type": "code",
        "outputId": "f1ebb445-34f8-48d4-f124-7e1fc7b15927",
        "colab": {
          "base_uri": "https://localhost:8080/",
          "height": 34
        }
      },
      "source": [
        "sampled_indices"
      ],
      "execution_count": 21,
      "outputs": [
        {
          "output_type": "execute_result",
          "data": {
            "text/plain": [
              "array([51])"
            ]
          },
          "metadata": {
            "tags": []
          },
          "execution_count": 21
        }
      ]
    },
    {
      "cell_type": "code",
      "metadata": {
        "id": "S1ztRhN5QiAb",
        "colab_type": "code",
        "outputId": "e4d649e5-6cd9-4187-d3e5-1edb0b63d432",
        "colab": {
          "base_uri": "https://localhost:8080/",
          "height": 104
        }
      },
      "source": [
        "#print(repr(\"\".join(idx2char[tuple(input_example_batch[0])])))\n",
        "print(\"Input: \\n\", repr(\"\".join(idx2char[tuple(input_example_batch[0])])))\n",
        "print()\n",
        "print(\"Next Char Predictions: \\n\", repr(\"\".join(idx2char[sampled_indices ])))"
      ],
      "execution_count": 0,
      "outputs": [
        {
          "output_type": "stream",
          "text": [
            "Input: \n",
            " '.'\n",
            "\n",
            "Next Char Predictions: \n",
            " 'B'\n"
          ],
          "name": "stdout"
        }
      ]
    },
    {
      "cell_type": "markdown",
      "metadata": {
        "id": "6ihicNTx9GdC",
        "colab_type": "text"
      },
      "source": [
        "The standard tf.keras.losses.sparse_categorical_crossentropy loss function works in this case because it is applied across the last dimension of the predictions. "
      ]
    },
    {
      "cell_type": "code",
      "metadata": {
        "id": "JU6Gs4txTQvz",
        "colab_type": "code",
        "outputId": "e3126862-8cb9-42e4-bd3a-f9117c6441f1",
        "colab": {
          "base_uri": "https://localhost:8080/",
          "height": 52
        }
      },
      "source": [
        "def loss(labels, logits):\n",
        "  return tf.keras.losses.sparse_categorical_crossentropy(labels, logits, from_logits=True)\n",
        "\n",
        "example_batch_loss  = loss(target_example_batch, example_batch_predictions)\n",
        "print(\"Prediction shape: \", example_batch_predictions.shape, \" # (batch_size, sequence_length, vocab_size)\")\n",
        "print(\"scalar_loss:      \", example_batch_loss.numpy().mean())"
      ],
      "execution_count": 22,
      "outputs": [
        {
          "output_type": "stream",
          "text": [
            "Prediction shape:  (64, 1, 68)  # (batch_size, sequence_length, vocab_size)\n",
            "scalar_loss:       4.2206793\n"
          ],
          "name": "stdout"
        }
      ]
    },
    {
      "cell_type": "code",
      "metadata": {
        "id": "Pbtp0SvYTTC1",
        "colab_type": "code",
        "colab": {}
      },
      "source": [
        "model.compile(\n",
        "    optimizer = tf.train.AdamOptimizer(),\n",
        "    loss = loss)"
      ],
      "execution_count": 0,
      "outputs": []
    },
    {
      "cell_type": "code",
      "metadata": {
        "id": "rQfuhdwnTUlK",
        "colab_type": "code",
        "colab": {}
      },
      "source": [
        "# Directory where the checkpoints will be saved\n",
        "checkpoint_dir = './training_checkpoints'\n",
        "# Name of the checkpoint files\n",
        "checkpoint_prefix = os.path.join(checkpoint_dir, \"ckpt_{epoch}\")\n",
        "\n",
        "checkpoint_callback=tf.keras.callbacks.ModelCheckpoint(\n",
        "    filepath=checkpoint_prefix,\n",
        "    save_weights_only=True)"
      ],
      "execution_count": 0,
      "outputs": []
    },
    {
      "cell_type": "markdown",
      "metadata": {
        "id": "Qe9--4-j9a19",
        "colab_type": "text"
      },
      "source": [
        "### We train the model"
      ]
    },
    {
      "cell_type": "code",
      "metadata": {
        "id": "ZagZsuVDTWBl",
        "colab_type": "code",
        "outputId": "72967579-c0bd-4af7-853d-9639b3c10b7e",
        "colab": {
          "base_uri": "https://localhost:8080/",
          "height": 784
        }
      },
      "source": [
        "EPOCHS=20\n",
        "history = model.fit(dataset.repeat(), epochs=EPOCHS, steps_per_epoch=steps_per_epoch, callbacks=[checkpoint_callback])\n"
      ],
      "execution_count": 25,
      "outputs": [
        {
          "output_type": "stream",
          "text": [
            "Epoch 1/20\n",
            "553/555 [============================>.] - ETA: 0s - loss: 2.5796WARNING:tensorflow:From /usr/local/lib/python3.6/dist-packages/tensorflow/python/keras/engine/network.py:1436: update_checkpoint_state (from tensorflow.python.training.checkpoint_management) is deprecated and will be removed in a future version.\n",
            "Instructions for updating:\n",
            "Use tf.train.CheckpointManager to manage checkpoints rather than manually editing the Checkpoint proto.\n",
            "555/555 [==============================] - 6s 10ms/step - loss: 2.5791\n",
            "Epoch 2/20\n",
            "555/555 [==============================] - 4s 8ms/step - loss: 2.3519\n",
            "Epoch 3/20\n",
            "555/555 [==============================] - 4s 8ms/step - loss: 2.3387\n",
            "Epoch 4/20\n",
            "555/555 [==============================] - 4s 8ms/step - loss: 2.3303\n",
            "Epoch 5/20\n",
            "555/555 [==============================] - 4s 8ms/step - loss: 2.3265\n",
            "Epoch 6/20\n",
            "555/555 [==============================] - 4s 8ms/step - loss: 2.3228\n",
            "Epoch 7/20\n",
            "555/555 [==============================] - 5s 9ms/step - loss: 2.3169\n",
            "Epoch 8/20\n",
            "555/555 [==============================] - 5s 9ms/step - loss: 2.3169\n",
            "Epoch 9/20\n",
            "555/555 [==============================] - 4s 8ms/step - loss: 2.3177\n",
            "Epoch 10/20\n",
            "555/555 [==============================] - 4s 8ms/step - loss: 2.3130\n",
            "Epoch 11/20\n",
            "555/555 [==============================] - 4s 8ms/step - loss: 2.3108\n",
            "Epoch 12/20\n",
            "555/555 [==============================] - 4s 8ms/step - loss: 2.3094\n",
            "Epoch 13/20\n",
            "555/555 [==============================] - 4s 8ms/step - loss: 2.3104\n",
            "Epoch 14/20\n",
            "555/555 [==============================] - 4s 8ms/step - loss: 2.3095\n",
            "Epoch 15/20\n",
            "555/555 [==============================] - 4s 8ms/step - loss: 2.3069\n",
            "Epoch 16/20\n",
            "555/555 [==============================] - 4s 8ms/step - loss: 2.3088\n",
            "Epoch 17/20\n",
            "555/555 [==============================] - 4s 8ms/step - loss: 2.3057\n",
            "Epoch 18/20\n",
            "555/555 [==============================] - 4s 8ms/step - loss: 2.3015\n",
            "Epoch 19/20\n",
            "555/555 [==============================] - 4s 8ms/step - loss: 2.3024\n",
            "Epoch 20/20\n",
            "555/555 [==============================] - 5s 9ms/step - loss: 2.2996\n"
          ],
          "name": "stdout"
        }
      ]
    },
    {
      "cell_type": "markdown",
      "metadata": {
        "id": "rbZ_btSD-Mmo",
        "colab_type": "text"
      },
      "source": [
        "Load latestest checkpoint"
      ]
    },
    {
      "cell_type": "code",
      "metadata": {
        "id": "YRMz1GvPTXPc",
        "colab_type": "code",
        "outputId": "1cd657b8-bce0-4465-a294-3d87bc59bdc5",
        "colab": {
          "base_uri": "https://localhost:8080/",
          "height": 34
        }
      },
      "source": [
        "tf.train.latest_checkpoint(checkpoint_dir)"
      ],
      "execution_count": 26,
      "outputs": [
        {
          "output_type": "execute_result",
          "data": {
            "text/plain": [
              "'./training_checkpoints/ckpt_20'"
            ]
          },
          "metadata": {
            "tags": []
          },
          "execution_count": 26
        }
      ]
    },
    {
      "cell_type": "code",
      "metadata": {
        "id": "yCOSfEq1TeT-",
        "colab_type": "code",
        "colab": {}
      },
      "source": [
        "model = build_model(vocab_size, embedding_dim, rnn_units, batch_size=1)\n",
        "\n",
        "model.load_weights(tf.train.latest_checkpoint(checkpoint_dir))\n",
        "\n",
        "model.build(tf.TensorShape([1, None]))"
      ],
      "execution_count": 0,
      "outputs": []
    },
    {
      "cell_type": "markdown",
      "metadata": {
        "id": "-OkrgRWI-RdV",
        "colab_type": "text"
      },
      "source": [
        "Create a function that use de model"
      ]
    },
    {
      "cell_type": "code",
      "metadata": {
        "id": "VnACYJ6GWAIo",
        "colab_type": "code",
        "colab": {}
      },
      "source": [
        "def generate_text(model, start_string):\n",
        "  # Evaluation step (generating text using the learned model)\n",
        "\n",
        "  # Number of characters to generate\n",
        "  num_generate = 1000\n",
        "\n",
        "  # Converting our start string to numbers (vectorizing)\n",
        "  input_eval = [char2idx[s] for s in start_string]\n",
        "  input_eval = tf.expand_dims(input_eval, 0)\n",
        "\n",
        "  # Empty string to store our results\n",
        "  text_generated = []\n",
        "\n",
        "  # Low temperatures results in more predictable text.\n",
        "  # Higher temperatures results in more surprising text.\n",
        "  # Experiment to find the best setting.\n",
        "  temperature = 1.0\n",
        "\n",
        "  # Here batch size == 1\n",
        "  model.reset_states()\n",
        "  for i in range(num_generate):\n",
        "      predictions = model(input_eval)\n",
        "      # remove the batch dimension\n",
        "      predictions = tf.squeeze(predictions, 0)\n",
        "\n",
        "      # using a multinomial distribution to predict the word returned by the model\n",
        "      predictions = predictions / temperature\n",
        "      predicted_id = tf.random.categorical(predictions, num_samples=1)[-1,0].numpy()\n",
        "\n",
        "      # We pass the predicted word as the next input to the model\n",
        "      # along with the previous hidden state\n",
        "      input_eval = tf.expand_dims([predicted_id], 0)\n",
        "\n",
        "      text_generated.append(idx2char[predicted_id])\n",
        "\n",
        "  return (start_string + ''.join(text_generated))"
      ],
      "execution_count": 0,
      "outputs": []
    },
    {
      "cell_type": "code",
      "metadata": {
        "id": "UBOp6FVrWCfr",
        "colab_type": "code",
        "outputId": "7eaacafc-3607-40af-ceee-233b1150063d",
        "colab": {
          "base_uri": "https://localhost:8080/",
          "height": 990
        }
      },
      "source": [
        "print(generate_text(model, start_string=u\"A\")) # Doesn't matter which word is started"
      ],
      "execution_count": 29,
      "outputs": [
        {
          "output_type": "stream",
          "text": [
            "A. Pe\n",
            "Fe\n",
            "Tin Mel lo Ixlóbobl Chingro dechuca\n",
            "Sa Mamantatlahepelán\n",
            "Chutí\n",
            "Jorosane\n",
            "Renotixtachitlolamal\n",
            "Zil Abarían dexépan\n",
            "Jon d\n",
            "Sol Juoco Naro Rotlaltinris Llaha Margo Il -Daxco\n",
            "Ron Or\n",
            "Sastl Pe Atall Lues\n",
            "Arapes Moraruapaorasisitepar Mapan Carín\n",
            "Canacáracínco\n",
            "Salvanchto Ravaranuan\n",
            "Elcalaroyánan Pén Hote Ojuelilosin\n",
            "Emónco\n",
            "Amora Oco\n",
            "Callo\n",
            "Canagos\n",
            "Alva\n",
            "Atléha\n",
            "Chuiántl Medez Vipel Jitaz\n",
            "Catlántarindepa Mas\n",
            "Cilahumpue Dían Gosalápec\n",
            "Buixtitl\n",
            "Domucía\n",
            "Lue Charla -Donc Ac\n",
            "C Coré depusqun den\n",
            "Con\n",
            "Sixteltaz\n",
            "Undan Nu Jistlan An Co\n",
            "Alos\n",
            "Zo Iltl Caroronalten\n",
            "Hocosí\n",
            "Tlgasénggoran Cos Caz Xitlahavan Ja\n",
            "Peontlápoto\n",
            "Zas Biran dacon desporé Milecotlumbare do doblteroltlo\n",
            "Tulac\n",
            "Lo Ro Cocostán\n",
            "Flántan lanjas\n",
            "Hióncon Chir dz Fonz Mesto\n",
            "San Buihujo Malchaz Ayateoran\n",
            "Sastl Repimos Bechitl\n",
            "Pe\n",
            "Marrés\n",
            "Lopa Do\n",
            "Huepetlote Ma Ma Quan Sat dalán Tranla Labiaracáro\n",
            "Gonterietloparma\n",
            "Ma Mo\n",
            "San Caqui. Ba Alan Luiber Combrin Comos Juia\n",
            "Cogezás Satraligolatar\n",
            "Tiazuhueza\n",
            "Asin Yanscomastepa\n",
            "Min de Jo Textlachua\n",
            "Istlánto Az \n"
          ],
          "name": "stdout"
        }
      ]
    }
  ]
}